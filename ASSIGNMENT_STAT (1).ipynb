{
  "nbformat": 4,
  "nbformat_minor": 0,
  "metadata": {
    "colab": {
      "provenance": []
    },
    "kernelspec": {
      "name": "python3",
      "display_name": "Python 3"
    },
    "language_info": {
      "name": "python"
    }
  },
  "cells": [
    {
      "cell_type": "markdown",
      "source": [
        "# **Statistics Basic-2**"
      ],
      "metadata": {
        "id": "9hGHglpdi0it"
      }
    },
    {
      "cell_type": "markdown",
      "source": [
        "# **Assignment**"
      ],
      "metadata": {
        "id": "r11Ru9kWi6JN"
      }
    },
    {
      "cell_type": "markdown",
      "source": [
        "**Q1. What are the three measures of central tendency?**"
      ],
      "metadata": {
        "id": "_O27w2DugvsQ"
      }
    },
    {
      "cell_type": "markdown",
      "source": [
        "**SOLUTION:**\n",
        "the three measure of central tendency are\n",
        "1. mean\n",
        "2. median\n",
        "3. mode"
      ],
      "metadata": {
        "id": "Rexk5vntg6Xe"
      }
    },
    {
      "cell_type": "markdown",
      "source": [
        "**Q2. What is the difference between the mean, median, and mode? How are they used to measure the central tendency of a dataset?**"
      ],
      "metadata": {
        "id": "4uGCPSMFhbsv"
      }
    },
    {
      "cell_type": "markdown",
      "source": [
        "**SOLUTION:**\n",
        "\n",
        "Mean: Measures the arithmetic average and is best when you need an overall \"balance\" of the data. It considers every value but can be skewed by extreme outliers.\n",
        "\n",
        "Median: Measures the middle value in a dataset. It gives a better central point when there are outliers or when the data is skewed.\n",
        "\n",
        "Mode: Measures the most common or frequent value. It is particularly useful in categorical data or to identify the most likely value in a dataset."
      ],
      "metadata": {
        "id": "AnwswcR0hgHe"
      }
    },
    {
      "cell_type": "markdown",
      "source": [
        "**Q3. Measure the three measures of central tendency for the given height data: [178,177,176,177,178.2,178,175,179,180,175,178.9,176.2,177,172.5,178,176.5]**"
      ],
      "metadata": {
        "id": "g6sIqZ4Jhf8d"
      }
    },
    {
      "cell_type": "markdown",
      "source": [
        "**SOLUTION:**\n",
        "\n",
        "**1. Mean (Average):**\n",
        "\n",
        "To calculate the mean, sum up all the values and divide by the number of values.\n",
        "\n",
        "Mean=∑Values/Number of Values\n",
        "\n",
        "Step 1: Add up all the values:\n",
        "\n",
        "178+177+176+177+178.2+178+175+179+180+175+178.9+176.2+177+172.5+178+176.5=2832.3\n",
        "\n",
        "Step 2: Count the number of values in the dataset:\n",
        "\n",
        "Number of Values=16\n",
        "\n",
        "Step 3: Divide the sum by the number of values:\n",
        "\n",
        "Mean=2832.3/16\n",
        "= 177.01875\n",
        "\n",
        "So, the mean is approximately 177.02 cm.\n",
        "\n",
        "**2. Median:**\n",
        "\n",
        "The median is the middle value in an ordered dataset. If there is an even number of values, it’s the average of the two middle values.\n",
        "\n",
        "Step 1: Order the data from smallest to largest:\n",
        "\n",
        "[172.5,175,175,176,176.2,176.5,177,177,177,177,178,178,178,178.2,178.9,179,180]\n",
        "\n",
        "Step 2: Find the middle position. Since there are 16 values (an even number),\n",
        "\n",
        "the median is the average of the 8th and 9th values.\n",
        "\n",
        "The 8th value is 177\n",
        "\n",
        "The 9th value is 177\n",
        "\n",
        "Step 3: Calculate the median:\n",
        "\n",
        "Median = 177 + 177 /2=177\n",
        "\n",
        "So, the median is 177 cm.\n",
        "\n",
        "**3. Mode:**\n",
        "\n",
        "The mode is the value that appears most frequently in the dataset.\n",
        "\n",
        "Looking at the ordered data:\n",
        "\n",
        "[172.5,175,175,176,176.2,176.5,177,177,177,177,178,178,178,178.2,178.9,179,180]\n",
        "\n",
        "The value 177 appears 3 times, which is more frequent than any other value.\n",
        "\n",
        "So, the mode is 177 cm."
      ],
      "metadata": {
        "id": "mC4UcKArho4l"
      }
    },
    {
      "cell_type": "code",
      "source": [
        "import numpy as np\n",
        "from scipy import stats\n",
        "data=[178,177,176,177,178.2,178,175,179,180,175,178.9,176.2,177,172.5,178,176.5]\n",
        "mean=np.mean(data)\n",
        "print('mean=',mean)\n",
        "median=np.median(data)\n",
        "print('median=',median)\n",
        "mode=stats.mode(data)\n",
        "print('mode=',mode)"
      ],
      "metadata": {
        "colab": {
          "base_uri": "https://localhost:8080/"
        },
        "id": "8SyEO29oT7s0",
        "outputId": "8b11e3b6-0b99-4172-e5a2-32709953bc59"
      },
      "execution_count": 4,
      "outputs": [
        {
          "output_type": "stream",
          "name": "stdout",
          "text": [
            "mean= 177.01875\n",
            "median= 177.0\n",
            "mode= ModeResult(mode=177.0, count=3)\n"
          ]
        }
      ]
    },
    {
      "cell_type": "markdown",
      "source": [
        "**Q4. Find the standard deviation for the given data: [178,177,176,177,178.2,178,175,179,180,175,178.9,176.2,177,172.5,178,176.5]**"
      ],
      "metadata": {
        "id": "Lg_EW7xkhovd"
      }
    },
    {
      "cell_type": "markdown",
      "source": [
        "**SOLUTION:**\n",
        "\n",
        "[178,177,176,177,178.2,178,175,179,180,175,178.9,176.2,177,172.5,178,176.5]\n",
        "\n",
        "Step 1: Calculate the Mean (Average)\n",
        "\n",
        "The mean is calculated by adding up all the values and dividing by the number of values.\n",
        "\n",
        "Mean =∑ Values /Number of Values\n",
        "\n",
        "=2832.3/16\n",
        "\n",
        "=177.02\n",
        "\n",
        "Step 2: Calculate the Squared Differences from the Mean\n",
        "For each value, subtract the mean and square the result.\n",
        "\n",
        "(178−177.02)**2=0.9604\n",
        "\n",
        "(177−177.02)**2=0.0004\n",
        "\n",
        "(176−177.02)**2=1.0404\n",
        "\n",
        "(177−177.02)**2=0.0004\n",
        "\n",
        "(178.2−177.02)**2=1.3924\n",
        "\n",
        "(178−177.02)**2=0.9604\n",
        "\n",
        "(175−177.02)**2=4.0804\n",
        "\n",
        "(179−177.02)**2=3.9204\n",
        "\n",
        "(180−177.02)**2=8.9604\n",
        "\n",
        "(175−177.02)**2=4.0804\n",
        "\n",
        "(178.9−177.02)**2=3.5284\n",
        "\n",
        "(176.2−177.02)**2=0.6724\n",
        "\n",
        "(177−177.02)**2=0.0004\n",
        "\n",
        "(172.5−177.02)**2=20.2504\n",
        "\n",
        "(178−177.02)**2=0.9604\n",
        "\n",
        "(176.5−177.02)**2=0.2704\n",
        "\n",
        "Step 3: Sum of the Squared Differences\n",
        "Now, sum all the squared differences:\n",
        "\n",
        "0.9604+0.0004+1.0404+0.0004+1.3924+0.9604+4.0804+3.9204+8.9604+4.0804+3.5284+0.6724+0.0004+20.2504+0.9604+0.2704=50.0778\n",
        "\n",
        "\n",
        "Step 4: Calculate the Variance\n",
        "\n",
        "The variance is the average of the squared differences. For a sample, we divide by n−1 (where 𝑛 is the number of data points).\n",
        "\n",
        "Variance =50.0778/16− 1\n",
        "= 50.0778/15\n",
        "= 3.3385\n",
        "\n",
        "Step 5: Calculate the Standard Deviation\n",
        "The standard deviation is the square root of the variance:\n",
        "\n",
        "Standard Deviation\n",
        "= ROOT(3.3385)\n",
        "≈ 1.788\n",
        "\n",
        "Final Answer:\n",
        "The standard deviation for the given data is approximately 1.80 cm.\n",
        "  \n"
      ],
      "metadata": {
        "id": "En74FLrLh1Hd"
      }
    },
    {
      "cell_type": "code",
      "source": [
        "import numpy as np\n",
        "data=[178,177,176,177,178.2,178,175,179,180,175,178.9,176.2,177,172.5,178,176.5]\n",
        "np.std(data)"
      ],
      "metadata": {
        "colab": {
          "base_uri": "https://localhost:8080/"
        },
        "id": "UQbqAyfyTM1D",
        "outputId": "94974980-4ca7-4ed8-a749-5025a8e00325"
      },
      "execution_count": 1,
      "outputs": [
        {
          "output_type": "execute_result",
          "data": {
            "text/plain": [
              "1.7885814036548633"
            ]
          },
          "metadata": {},
          "execution_count": 1
        }
      ]
    },
    {
      "cell_type": "markdown",
      "source": [
        "**Q5. How are measures of dispersion such as range, variance, and standard deviation used to describe the spread of a dataset? Provide an example.**"
      ],
      "metadata": {
        "id": "yeboyHhwh1gl"
      }
    },
    {
      "cell_type": "markdown",
      "source": [
        "**SOLUTION:**\n",
        "\n",
        "**1. Range**\n",
        "\n",
        "The range is the simplest measure of dispersion. It is the difference between the largest and smallest values in a dataset.\n",
        "\n",
        "Formula:\n",
        "\n",
        "Range=Maximum Value−Minimum Value\n",
        "\n",
        "Example: Suppose we have the following heights (in cm) of 5 people:\n",
        "\n",
        "165,170,172,180,175\n",
        "\n",
        "Maximum value = 180\n",
        "\n",
        "Minimum value = 165\n",
        "\n",
        "Range=180−165=15\n",
        "\n",
        "Interpretation: The range tells us that the height varies by 15 cm between the shortest and tallest person.\n",
        "\n",
        "**2. Variance**\n",
        "The variance measures the average of the squared differences between each data point and the mean. It provides insight into how far each data point in the dataset is from the mean.\n",
        "\n",
        "Formula: For a sample of n values:\n",
        "\n",
        "Variance= (∑(Xi​− m)**2)/n−1\n",
        "\n",
        "where\n",
        "\n",
        "Xi is each data point, and m is the mean.\n",
        "\n",
        "Example: Consider the same height data:\n",
        "\n",
        "165,170,172,180,175\n",
        "\n",
        "Mean height =  165+170+172+180+175\n",
        "\n",
        " =172.4\n",
        "\n",
        "Sum of squared differences = 54.76 + 5.76 + 0.16 + 57.76 + 6.76 = 125.2\n",
        "Variance = 125.2/5−1\n",
        "\n",
        "=125.2/4\n",
        "= 31.3\n",
        "\n",
        "Interpretation: The variance of 31.3 shows that the heights deviate from the mean by an average of approximately 31.3 squared units (cm²). However, because the units are squared, it’s harder to interpret directly.\n",
        "\n",
        "Range gives a quick sense of the spread between the maximum and minimum values but doesn’t account for the distribution of values in between.\n",
        "\n",
        "\n",
        "Variance and standard deviation consider how all values in the dataset deviate from the mean, providing a more comprehensive understanding of the data spread. The standard deviation is easier to interpret because it's in the same units as the data, while variance is in squared units."
      ],
      "metadata": {
        "id": "poUss0a7h7hP"
      }
    },
    {
      "cell_type": "markdown",
      "source": [
        "**Q6. What is a Venn diagram?**"
      ],
      "metadata": {
        "id": "99YvQxDWh7dd"
      }
    },
    {
      "cell_type": "markdown",
      "source": [
        "**SOLUTION:**\n",
        "\n",
        "A Venn diagram is a visual tool used to show the relationships between different sets, typically represented by overlapping circles. It illustrates how sets intersect, differ, and relate to each other, helping to represent concepts like union, intersection, difference, and complement in a simple, visual way."
      ],
      "metadata": {
        "id": "he6NEEmjiBGm"
      }
    },
    {
      "cell_type": "markdown",
      "source": [
        "**Q7. For the two given sets A = (2,3,4,5,6,7) & B = (0,2,6,8,10). Find: (i) A B (ii) A ⋃ B**"
      ],
      "metadata": {
        "id": "yndJJt48iBCt"
      }
    },
    {
      "cell_type": "markdown",
      "source": [
        "**SOLUTION:**\n",
        "\n",
        "A∩B={2,6}\n",
        "\n",
        "A∪B={0,2,3,4,5,6,7,8,10}"
      ],
      "metadata": {
        "id": "-eUa7aNEiG7V"
      }
    },
    {
      "cell_type": "markdown",
      "source": [
        "**Q8. What do you understand about skewness in data?**"
      ],
      "metadata": {
        "id": "09R1eHG1iHTs"
      }
    },
    {
      "cell_type": "markdown",
      "source": [
        "**SOLUTION:**\n",
        "\n",
        "Skewness in data refers to the asymmetry or lack of symmetry in the distribution of data values around its mean. It describes how the data values are distributed in relation to the mean and whether they are concentrated more on one side of the mean than the other.\n",
        "\n",
        "**Types of Skewness:**\n",
        "\n",
        "**Symmetrical Distribution (No Skewness):**\n",
        "\n",
        "In a perfectly symmetrical distribution, the left and right sides of the distribution are mirror images.\n",
        "\n",
        "The mean, median, and mode are all the same or very close to each other.\n",
        "\n",
        "Example:\n",
        "\n",
        "A normal distribution (bell curve) is perfectly symmetrical.\n",
        "\n",
        "**Positive Skewness (Right-Skewed):**\n",
        "\n",
        "In a positively skewed distribution, the tail on the right-hand side is longer or fatter than the left side.\n",
        "\n",
        "Most of the data points are concentrated on the left, with a few larger values pulling the mean to the right.\n",
        "\n",
        "In this case: Mean > Median > Mode.\n",
        "\n",
        "Example:\n",
        "\n",
        "Income distribution, where a few individuals may have significantly higher incomes, pulling the average up.\n",
        "\n",
        "**Negative Skewness (Left-Skewed):**\n",
        "\n",
        "In a negatively skewed distribution, the tail on the left-hand side is longer or fatter than the right side.\n",
        "\n",
        "Most of the data points are concentrated on the right, with a few smaller values pulling the mean to the left.\n",
        "\n",
        "In this case: Mean < Median < Mode.\n",
        "\n",
        "Example:\n",
        "\n",
        " Age of retirement, where most people retire around a specific age, but some may retire much earlier, pulling the mean to the left.\n",
        "\n",
        "**How to Measure Skewness:**\n",
        "\n",
        "Skewness coefficient: Skewness is quantified using a skewness coefficient, with the following interpretations:\n",
        "\n",
        "If skewness > 0, the distribution is positively skewed.\n",
        "\n",
        "If skewness < 0, the distribution is negatively skewed.\n",
        "\n",
        "If skewness = 0, the distribution is symmetrical (no skew)\n"
      ],
      "metadata": {
        "id": "A9ZE88YsiNc1"
      }
    },
    {
      "cell_type": "markdown",
      "source": [
        "**Q9. If a data is right skewed then what will be the position of median with respect to mean?**"
      ],
      "metadata": {
        "id": "_oiGliOhiNYc"
      }
    },
    {
      "cell_type": "markdown",
      "source": [
        "**SOLUTION:**\n",
        "\n",
        "If a dataset is right-skewed (positively skewed), the median will be less than the mean.\n",
        "\n",
        " Mean > Median > Mode."
      ],
      "metadata": {
        "id": "2BOOxjn1iQVs"
      }
    },
    {
      "cell_type": "markdown",
      "source": [
        "**Q10. Explain the difference between covariance and correlation. How are these measures used in statistical analysis?**"
      ],
      "metadata": {
        "id": "NBr17yWLiQqV"
      }
    },
    {
      "cell_type": "markdown",
      "source": [
        "**SOLUTION:**\n",
        "\n",
        "# **1. Definition:**\n",
        "\n",
        "**Covariance:**\n",
        "\n",
        "Covariance measures how two variables change together. It indicates the direction of the linear relationship between the variables.\n",
        "\n",
        "If both variables increase together, the covariance is positive. If one variable increases while the other decreases, the covariance is negative.\n",
        "\n",
        "**Correlation:**\n",
        "\n",
        "Correlation quantifies the strength and direction of the linear relationship between two variables, standardizing the measure of covariance.\n",
        "\n",
        "Correlation values are confined to a range between -1 and 1, where -1 indicates a perfect negative correlation, 1 indicates a perfect positive correlation, and 0 indicates no correlation.\n",
        "\n",
        "# **2. Scale:**\n",
        "\n",
        "**Covariance:**\n",
        "\n",
        "The value of covariance can range from negative infinity to positive infinity. The magnitude is affected by the units of the variables, which makes interpretation difficult.\n",
        "\n",
        "**Correlation:**\n",
        "\n",
        "Correlation values range from -1 to 1, making them easier to interpret. A value of 0 indicates no linear relationship, while values closer to -1 or 1 indicate stronger relationships.\n",
        "\n",
        "# **3. Interpretation:**\n",
        "\n",
        "**Covariance:**\n",
        "\n",
        "A positive covariance indicates that the variables tend to increase or decrease together, while a negative covariance indicates that as one variable increases, the other tends to decrease. However, it does not provide information about the strength of the relationship.\n",
        "\n",
        "**Correlation:**\n",
        "\n",
        "Correlation provides both the direction (positive or negative) and strength of the relationship. It indicates how closely the two variables follow a linear relationship.\n",
        "\n",
        "# **Usage in Statistical Analysis:**\n",
        "\n",
        "**Covariance:**\n",
        "\n",
        "Used in portfolio theory in finance to measure how different assets move together.\n",
        "\n",
        "Helps to identify relationships in data but is less frequently used in reporting results due to its interpretation difficulties.\n",
        "\n",
        "**Correlation:**\n",
        "\n",
        "Widely used in various fields such as economics, psychology, biology, and social sciences to understand relationships between variables.\n",
        "\n",
        "Used to assess the strength of relationships in regression analysis, hypothesis testing, and predictive modeling.\n",
        "\n",
        "Correlation coefficients are often reported to convey how strongly two variables are related.\n",
        "\n",
        "\n",
        "while both covariance and correlation provide insights into the relationship between two variables, correlation is more commonly used due to its standardized scale and easier interpretation. Covariance gives a sense of direction but lacks clarity in terms of strength and comparative analysis."
      ],
      "metadata": {
        "id": "Flo4ntRriV0S"
      }
    },
    {
      "cell_type": "markdown",
      "source": [
        "**Q11. What is the formula for calculating the sample mean? Provide an example calculation for a dataset.**"
      ],
      "metadata": {
        "id": "pLM_EsYGiVxk"
      }
    },
    {
      "cell_type": "markdown",
      "source": [
        "**SOLUTION:**\n",
        "\n",
        "The sample mean is a measure of central tendency that provides an average value for a dataset. The formula for calculating the sample mean (M) is:\n",
        "\n",
        "M =∑Xi/n\n",
        "\n",
        "Where:\n",
        "M = Sample mean\n",
        "\n",
        "Xi= Each individual data point in the dataset\n",
        "\n",
        "n = Total number of data points in the sample\n",
        "\n",
        "∑ = Summation notation, which means to add up all the individual data points\n",
        "\n",
        "Example Calculation:\n",
        "\n",
        "Let’s calculate the sample mean for the following dataset:\n",
        "\n",
        "Dataset: {4,8,6,5,3}\n",
        "\n",
        "Sum the Data Points:\n",
        "\n",
        "∑ Xi=4+8+6+5+3=26\n",
        "\n",
        "Count the Number of Data Points:\n",
        "\n",
        "n=5     \n",
        "\n",
        "(since there are 5 data points)\n",
        "\n",
        "mean M =26/5=5.2\n"
      ],
      "metadata": {
        "id": "RKkYbms8ibNr"
      }
    },
    {
      "cell_type": "markdown",
      "source": [
        "**Q12. For a normal distribution data what is the relationship between its measure of central tendency?**"
      ],
      "metadata": {
        "id": "WZ7CpnhAibDs"
      }
    },
    {
      "cell_type": "markdown",
      "source": [
        "**SOLUTION:**\n",
        "\n",
        "In a normal distribution, the three measures of central tendency —mean, median, and mode\n",
        "are equal and located at the center of the distribution.\n",
        "\n",
        "Mean=Median=Mode"
      ],
      "metadata": {
        "id": "igNYInHNihHr"
      }
    },
    {
      "cell_type": "markdown",
      "source": [
        "**Q13. How is covariance different from correlation?**"
      ],
      "metadata": {
        "id": "OVa8ff6RihDc"
      }
    },
    {
      "cell_type": "markdown",
      "source": [
        "**SOLUTION:**\n",
        "\n",
        "# **1. Definition:**\n",
        "\n",
        "**Covariance:**\n",
        "\n",
        "Covariance measures how two variables change together. It indicates the direction of the linear relationship between the variables.\n",
        "\n",
        "If both variables increase together, the covariance is positive. If one variable increases while the other decreases, the covariance is negative.\n",
        "\n",
        "**Correlation:**\n",
        "\n",
        "Correlation quantifies the strength and direction of the linear relationship between two variables, standardizing the measure of covariance.\n",
        "\n",
        "Correlation values are confined to a range between -1 and 1, where -1 indicates a perfect negative correlation, 1 indicates a perfect positive correlation, and 0 indicates no correlation.\n",
        "\n",
        "# **2. Scale:**\n",
        "\n",
        "**Covariance:**\n",
        "\n",
        "The value of covariance can range from negative infinity to positive infinity. The magnitude is affected by the units of the variables, which makes interpretation difficult.\n",
        "\n",
        "**Correlation:**\n",
        "\n",
        "Correlation values range from -1 to 1, making them easier to interpret. A value of 0 indicates no linear relationship, while values closer to -1 or 1 indicate stronger relationships.\n",
        "\n",
        "# **3. Interpretation:**\n",
        "\n",
        "**Covariance:**\n",
        "\n",
        "A positive covariance indicates that the variables tend to increase or decrease together, while a negative covariance indicates that as one variable increases, the other tends to decrease. However, it does not provide information about the strength of the relationship.\n",
        "\n",
        "**Correlation:**\n",
        "\n",
        "Correlation provides both the direction (positive or negative) and strength of the relationship. It indicates how closely the two variables follow a linear relationship."
      ],
      "metadata": {
        "id": "B0UYTfzZikNr"
      }
    },
    {
      "cell_type": "markdown",
      "source": [
        "**Q14. How do outliers affect measures of central tendency and dispersion? Provide an example.**"
      ],
      "metadata": {
        "id": "5DAuEsFAiWLm"
      }
    },
    {
      "cell_type": "markdown",
      "source": [
        "# **1. Effect on Measures of Central Tendency:**\n",
        "\n",
        "**Mean:**\n",
        "\n",
        "The mean is highly sensitive to outliers because it takes every data point into account when calculating the average. Even a single extreme outlier can drastically change the mean.\n",
        "\n",
        "Example: Consider the data set\n",
        "\n",
        "{10,12,11,13,15,90}.\n",
        "\n",
        "The outlier here is 90.\n",
        "\n",
        "Without the outlier: Mean = 10+12+11+13+15/5=12.2\n",
        "\n",
        "With the outlier: Mean = 10+12+11+13+15+90/6 =25.17\n",
        "\n",
        "The outlier significantly inflates the mean.\n",
        "\n",
        "**Median:**\n",
        "\n",
        "The median is less sensitive to outliers because it depends only on the middle value(s) of the ordered data, not the magnitude of any individual data point.\n",
        "Example: For the same data set\n",
        "\n",
        "{10,12,11,13,15,90}:\n",
        "\n",
        "Without the outlier: Median = 12\n",
        "\n",
        "With the outlier: Median = 12.5\n",
        "\n",
        "The median changes very little, making it a more robust measure when outliers are present.\n",
        "\n",
        "**Mode:**\n",
        "\n",
        "The mode is not affected by outliers because it is simply the most frequent value in the dataset. Outliers are unlikely to affect the most common data point unless the outlier occurs more frequently than other values.\n",
        "Example: In the dataset\n",
        "\n",
        "{10,12,11,13,15,90},\n",
        "\n",
        "the mode does not exist (no repeated values), but if we had a mode (say in a different dataset), an outlier would not alter it.\n",
        "\n",
        "# **2. Effect on Measures of Dispersion:**\n",
        "\n",
        "**Range:**\n",
        "\n",
        "The range is the difference between the largest and smallest values. Since the range depends only on the extreme values, an outlier can dramatically increase the range.\n",
        "\n",
        "Example: For {10,12,11,13,15,90}:\n",
        "\n",
        "Without the outlier: Range =  15−10=5\n",
        "\n",
        "With the outlier: Range = 90−10=80\n",
        "\n",
        "The outlier drastically increases the range.\n",
        "\n",
        "\n",
        "**Variance and Standard Deviation:**\n",
        "\n",
        "Both variance and standard deviation measure how spread out the data is around the mean. Since these metrics use the squared deviations from the mean, outliers can disproportionately increase the values, making the dataset appear more dispersed than it actually is.\n",
        "\n",
        "Example: In the dataset\n",
        "\n",
        "{10,12,11,13,15,90}:\n",
        "\n",
        "Without the outlier, the variance and standard deviation would be relatively small.\n",
        "\n",
        "With the outlier, the squared deviations of 90 from the mean will be very large, inflating both the variance and standard deviation.\n",
        "\n",
        "Specifically, for the above data with the outlier, the standard deviation will increase significantly:\n",
        "\n",
        "Without outlier: SD = 1.79\n",
        "\n",
        "With outlier: SD = 29.57"
      ],
      "metadata": {
        "id": "hOE_3BQYiqFE"
      }
    },
    {
      "cell_type": "code",
      "source": [],
      "metadata": {
        "id": "Nuf9pMzPiXRs"
      },
      "execution_count": null,
      "outputs": []
    }
  ]
}